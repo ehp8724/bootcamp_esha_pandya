{
 "cells": [
  {
   "cell_type": "markdown",
   "id": "98400b99-154a-48fa-b94d-703ddd0bd8e7",
   "metadata": {},
   "source": [
    "Environment & Config Check"
   ]
  },
  {
   "cell_type": "code",
   "execution_count": 1,
   "id": "c5d3ffb6-3b32-4604-a5b2-52fb56907a2a",
   "metadata": {},
   "outputs": [
    {
     "name": "stdout",
     "output_type": "stream",
     "text": [
      "API_KEY present: True\n"
     ]
    }
   ],
   "source": [
    "from dotenv import load_dotenv, find_dotenv\n",
    "import os\n",
    "\n",
    "load_dotenv(find_dotenv())\n",
    "\n",
    "print(\"API_KEY present:\", os.getenv(\"API_KEY\") is not None)"
   ]
  },
  {
   "cell_type": "code",
   "execution_count": 2,
   "id": "7f5e4d3e-b292-47bc-b519-6730a85ce2bb",
   "metadata": {},
   "outputs": [
    {
     "name": "stdout",
     "output_type": "stream",
     "text": [
      "Array :  [1 2 3]\n"
     ]
    }
   ],
   "source": [
    "import numpy as np\n",
    "\n",
    "arr = np.array([1, 2, 3])\n",
    "print(\"Array : \", arr)"
   ]
  },
  {
   "cell_type": "code",
   "execution_count": null,
   "id": "37b3b480-85c7-42b2-af27-254bcf033622",
   "metadata": {},
   "outputs": [],
   "source": []
  },
  {
   "cell_type": "code",
   "execution_count": null,
   "id": "7c1b3ce1-07c5-4224-a0c6-3f2bca1148f7",
   "metadata": {},
   "outputs": [],
   "source": []
  }
 ],
 "metadata": {
  "kernelspec": {
   "display_name": "Python 3 (ipykernel)",
   "language": "python",
   "name": "python3"
  },
  "language_info": {
   "codemirror_mode": {
    "name": "ipython",
    "version": 3
   },
   "file_extension": ".py",
   "mimetype": "text/x-python",
   "name": "python",
   "nbconvert_exporter": "python",
   "pygments_lexer": "ipython3",
   "version": "3.11.13"
  }
 },
 "nbformat": 4,
 "nbformat_minor": 5
}
