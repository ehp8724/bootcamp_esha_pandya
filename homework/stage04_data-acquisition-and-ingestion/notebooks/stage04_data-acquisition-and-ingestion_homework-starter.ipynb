{
 "cells": [
  {
   "cell_type": "code",
   "execution_count": 19,
   "id": "104a4c4b-7c07-42dd-adc9-b5fca6278e82",
   "metadata": {},
   "outputs": [
    {
     "name": "stdout",
     "output_type": "stream",
     "text": [
      "DATA_DIR = .\\data\n"
     ]
    }
   ],
   "source": [
    "import os\n",
    "import pandas as pd\n",
    "import yfinance as yf\n",
    "from datetime import datetime\n",
    "import sys\n",
    "sys.path.append(os.getcwd() + \"/../src\")\n",
    "from config import load_env, get_key\n",
    "\n",
    "load_env()\n",
    "print(\"DATA_DIR =\", get_key(\"DATA_DIR\"))"
   ]
  },
  {
   "cell_type": "code",
   "execution_count": 20,
   "id": "fd3926eb-ac28-4870-926e-a2f515b90c6d",
   "metadata": {},
   "outputs": [
    {
     "name": "stderr",
     "output_type": "stream",
     "text": [
      "C:\\Users\\ESHA\\AppData\\Local\\Temp\\ipykernel_26880\\722505798.py:2: FutureWarning: YF.download() has changed argument auto_adjust default to True\n",
      "  df = yf.download(ticker, period=\"6mo\", interval=\"1d\")\n",
      "[*********************100%***********************]  1 of 1 completed"
     ]
    },
    {
     "name": "stdout",
     "output_type": "stream",
     "text": [
      "Shape: (125, 6)\n",
      "Columns: [('Date', ''), ('Close', 'JPM'), ('High', 'JPM'), ('Low', 'JPM'), ('Open', 'JPM'), ('Volume', 'JPM')]\n",
      "NA counts:\n",
      " Price   Ticker\n",
      "Date              0\n",
      "Close   JPM       0\n",
      "High    JPM       0\n",
      "Low     JPM       0\n",
      "Open    JPM       0\n",
      "Volume  JPM       0\n",
      "dtype: int64\n"
     ]
    },
    {
     "name": "stderr",
     "output_type": "stream",
     "text": [
      "\n"
     ]
    },
    {
     "data": {
      "text/plain": [
       "'../data/raw/api_yfinance_JPM_20250821-0353.csv'"
      ]
     },
     "execution_count": 20,
     "metadata": {},
     "output_type": "execute_result"
    }
   ],
   "source": [
    "ticker = \"JPM\"  # JPMorgan\n",
    "df = yf.download(ticker, period=\"6mo\", interval=\"1d\")\n",
    "\n",
    "df.reset_index(inplace=True)\n",
    "df[\"Date\"] = pd.to_datetime(df[\"Date\"])\n",
    "\n",
    "# Validation\n",
    "print(\"Shape:\", df.shape)\n",
    "print(\"Columns:\", df.columns.tolist())\n",
    "print(\"NA counts:\\n\", df.isna().sum())\n",
    "\n",
    "# Save\n",
    "os.makedirs(\"../data/raw\", exist_ok=True)\n",
    "fname = f\"../data/raw/api_yfinance_{ticker}_{datetime.now().strftime('%Y%m%d-%H%M')}.csv\"\n",
    "df.to_csv(fname, index=False)\n",
    "fname\n"
   ]
  },
  {
   "cell_type": "code",
   "execution_count": 25,
   "id": "fd8ab76f-adc5-40bf-8dbc-88d68f9a9058",
   "metadata": {},
   "outputs": [
    {
     "name": "stdout",
     "output_type": "stream",
     "text": [
      "Requirement already satisfied: lxml in c:\\users\\esha\\miniconda3\\envs\\fe-course\\lib\\site-packages (6.0.0)\n"
     ]
    },
    {
     "name": "stderr",
     "output_type": "stream",
     "text": [
      "\n",
      "[notice] A new release of pip is available: 23.0.1 -> 25.2\n",
      "[notice] To update, run: python.exe -m pip install --upgrade pip\n"
     ]
    }
   ],
   "source": [
    "!pip3 install lxml"
   ]
  },
  {
   "cell_type": "code",
   "execution_count": 27,
   "id": "7bcbb5d0-9d46-4e67-b87d-4872a42f2993",
   "metadata": {},
   "outputs": [
    {
     "name": "stdout",
     "output_type": "stream",
     "text": [
      "<class 'pandas.core.frame.DataFrame'>\n",
      "RangeIndex: 503 entries, 0 to 502\n",
      "Data columns (total 5 columns):\n",
      " #   Column        Non-Null Count  Dtype \n",
      "---  ------        --------------  ----- \n",
      " 0   symbol        503 non-null    object\n",
      " 1   security      503 non-null    object\n",
      " 2   sector        503 non-null    object\n",
      " 3   sub_industry  503 non-null    object\n",
      " 4   hq            503 non-null    object\n",
      "dtypes: object(5)\n",
      "memory usage: 19.8+ KB\n",
      "None\n",
      "NA counts:\n",
      " symbol          0\n",
      "security        0\n",
      "sector          0\n",
      "sub_industry    0\n",
      "hq              0\n",
      "dtype: int64\n"
     ]
    },
    {
     "data": {
      "text/plain": [
       "'../data/raw/scrape_wikipedia_sp500_20250821-0358.csv'"
      ]
     },
     "execution_count": 27,
     "metadata": {},
     "output_type": "execute_result"
    }
   ],
   "source": [
    "import requests\n",
    "import lxml\n",
    "from bs4 import BeautifulSoup\n",
    "\n",
    "url = \"https://en.wikipedia.org/wiki/List_of_S%26P_500_companies\"\n",
    "resp = requests.get(url)\n",
    "soup = BeautifulSoup(resp.text, \"html.parser\")\n",
    "\n",
    "table = soup.find(\"table\", {\"id\": \"constituents\"})\n",
    "rows = table.find_all(\"tr\")\n",
    "\n",
    "data_rows = []\n",
    "for row in rows[1:]:\n",
    "    cols = [c.get_text(strip=True) for c in row.find_all(\"td\")]\n",
    "    if len(cols) >= 5:\n",
    "        data_rows.append([cols[0], cols[1], cols[3], cols[4], cols[5]])\n",
    "\n",
    "df_sp500 = pd.DataFrame(data_rows, columns=[\"symbol\",\"security\",\"sector\",\"sub_industry\",\"hq\"])\n",
    "\n",
    "# Validation\n",
    "print(df_sp500.info())\n",
    "print(\"NA counts:\\n\", df_sp500.isna().sum())\n",
    "\n",
    "# Save\n",
    "fname_sp = f\"../data/raw/scrape_wikipedia_sp500_{datetime.now().strftime('%Y%m%d-%H%M')}.csv\"\n",
    "df_sp500.to_csv(fname_sp, index=False)\n",
    "fname_sp\n"
   ]
  },
  {
   "cell_type": "markdown",
   "id": "a7001787-f0da-458a-9a62-10fa3b435a52",
   "metadata": {},
   "source": [
    "### Data Sources\n",
    "- API: Yahoo Finance (`yfinance`), ticker = JPM (banking exposure proxy).\n",
    "- Scrape: Wikipedia S&P 500 constituents table.\n",
    "\n",
    "### Validation\n",
    "- API: Checked required columns (`Date`, `Close`), NA counts.\n",
    "- Scrape: Checked text/numeric columns, NA counts.\n",
    "\n",
    "### Assumptions & Risks\n",
    "- `yfinance` schema may change or rate-limit.\n",
    "- Wikipedia table format may shift (scraping fragile).\n",
    "- `.env` not committed; `.env.example` included for reproducibility."
   ]
  }
 ],
 "metadata": {
  "kernelspec": {
   "display_name": "Python 3 (ipykernel)",
   "language": "python",
   "name": "python3"
  },
  "language_info": {
   "codemirror_mode": {
    "name": "ipython",
    "version": 3
   },
   "file_extension": ".py",
   "mimetype": "text/x-python",
   "name": "python",
   "nbconvert_exporter": "python",
   "pygments_lexer": "ipython3",
   "version": "3.11.13"
  }
 },
 "nbformat": 4,
 "nbformat_minor": 5
}
