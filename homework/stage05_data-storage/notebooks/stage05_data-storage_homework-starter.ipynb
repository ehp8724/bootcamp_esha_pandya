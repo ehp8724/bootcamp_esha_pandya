{
 "cells": [
  {
   "cell_type": "code",
   "execution_count": 5,
   "id": "989f2ce5-c2b9-45e4-aca0-55c3a0d35697",
   "metadata": {},
   "outputs": [
    {
     "data": {
      "text/plain": [
       "(WindowsPath('data/raw'), WindowsPath('data/processed'))"
      ]
     },
     "execution_count": 5,
     "metadata": {},
     "output_type": "execute_result"
    }
   ],
   "source": [
    "from datetime import datetime\n",
    "from pathlib import Path\n",
    "import sys\n",
    "import os\n",
    "import pandas as pd\n",
    "sys.path.append(os.getcwd() + \"/../src\")\n",
    "from config import load_env, get_path\n",
    "from storage import write_df, read_df\n",
    "\n",
    "load_env()\n",
    "RAW = get_path(\"DATA_DIR_RAW\", \"data/raw\")\n",
    "PROC = get_path(\"DATA_DIR_PROCESSED\", \"data/processed\")\n",
    "\n",
    "RAW, PROC"
   ]
  },
  {
   "cell_type": "code",
   "execution_count": 6,
   "id": "1d37a870-09f6-4a6c-b1c4-d71a050df1c7",
   "metadata": {},
   "outputs": [
    {
     "data": {
      "text/html": [
       "<div>\n",
       "<style scoped>\n",
       "    .dataframe tbody tr th:only-of-type {\n",
       "        vertical-align: middle;\n",
       "    }\n",
       "\n",
       "    .dataframe tbody tr th {\n",
       "        vertical-align: top;\n",
       "    }\n",
       "\n",
       "    .dataframe thead th {\n",
       "        text-align: right;\n",
       "    }\n",
       "</style>\n",
       "<table border=\"1\" class=\"dataframe\">\n",
       "  <thead>\n",
       "    <tr style=\"text-align: right;\">\n",
       "      <th></th>\n",
       "      <th>counterparty</th>\n",
       "      <th>date</th>\n",
       "      <th>ead</th>\n",
       "      <th>pd</th>\n",
       "    </tr>\n",
       "  </thead>\n",
       "  <tbody>\n",
       "    <tr>\n",
       "      <th>0</th>\n",
       "      <td>A</td>\n",
       "      <td>2025-08-01</td>\n",
       "      <td>10.5</td>\n",
       "      <td>0.010</td>\n",
       "    </tr>\n",
       "    <tr>\n",
       "      <th>1</th>\n",
       "      <td>B</td>\n",
       "      <td>2025-08-01</td>\n",
       "      <td>20.0</td>\n",
       "      <td>0.020</td>\n",
       "    </tr>\n",
       "    <tr>\n",
       "      <th>2</th>\n",
       "      <td>C</td>\n",
       "      <td>2025-08-01</td>\n",
       "      <td>15.2</td>\n",
       "      <td>0.015</td>\n",
       "    </tr>\n",
       "    <tr>\n",
       "      <th>3</th>\n",
       "      <td>A</td>\n",
       "      <td>2025-08-02</td>\n",
       "      <td>11.0</td>\n",
       "      <td>0.011</td>\n",
       "    </tr>\n",
       "    <tr>\n",
       "      <th>4</th>\n",
       "      <td>B</td>\n",
       "      <td>2025-08-02</td>\n",
       "      <td>19.8</td>\n",
       "      <td>0.019</td>\n",
       "    </tr>\n",
       "  </tbody>\n",
       "</table>\n",
       "</div>"
      ],
      "text/plain": [
       "  counterparty       date   ead     pd\n",
       "0            A 2025-08-01  10.5  0.010\n",
       "1            B 2025-08-01  20.0  0.020\n",
       "2            C 2025-08-01  15.2  0.015\n",
       "3            A 2025-08-02  11.0  0.011\n",
       "4            B 2025-08-02  19.8  0.019"
      ]
     },
     "execution_count": 6,
     "metadata": {},
     "output_type": "execute_result"
    }
   ],
   "source": [
    "import numpy as np\n",
    "now = datetime.now().strftime(\"%Y%m%d-%H%M\")\n",
    "\n",
    "df = pd.DataFrame({\n",
    "    \"counterparty\": [\"A\", \"B\", \"C\", \"A\", \"B\", \"C\"],\n",
    "    \"date\": pd.to_datetime([\"2025-08-01\",\"2025-08-01\",\"2025-08-01\",\"2025-08-02\",\"2025-08-02\",\"2025-08-02\"]),\n",
    "    \"ead\": [10.5, 20.0, 15.2, 11.0, 19.8, 15.5],   # Exposure at Default\n",
    "    \"pd\":  [0.01, 0.02, 0.015, 0.011, 0.019, 0.016] # Probability of Default\n",
    "})\n",
    "df.head()\n"
   ]
  },
  {
   "cell_type": "code",
   "execution_count": 7,
   "id": "92b0d653-5d0f-4b0f-86a9-f9edb708b881",
   "metadata": {},
   "outputs": [
    {
     "data": {
      "text/plain": [
       "(WindowsPath('data/raw/sample_20250821-0423.csv'),\n",
       " WindowsPath('data/processed/sample_20250821-0423.parquet'))"
      ]
     },
     "execution_count": 7,
     "metadata": {},
     "output_type": "execute_result"
    }
   ],
   "source": [
    "csv_path = RAW / f\"sample_{now}.csv\"\n",
    "parq_path = PROC / f\"sample_{now}.parquet\"\n",
    "\n",
    "write_df(df, csv_path)\n",
    "write_df(df, parq_path)\n",
    "\n",
    "csv_path, parq_path\n"
   ]
  },
  {
   "cell_type": "code",
   "execution_count": 8,
   "id": "4d967b92-222a-4476-b6e5-a5926ce30ced",
   "metadata": {},
   "outputs": [
    {
     "data": {
      "text/plain": [
       "shape_csv_matches                 True\n",
       "shape_parquet_matches             True\n",
       "date_dtype_csv_is_datetime        True\n",
       "date_dtype_parquet_is_datetime    True\n",
       "ead_is_float_csv                  True\n",
       "ead_is_float_parquet              True\n",
       "dtype: bool"
      ]
     },
     "execution_count": 8,
     "metadata": {},
     "output_type": "execute_result"
    }
   ],
   "source": [
    "df_csv = read_df(csv_path, parse_dates=[\"date\"])\n",
    "df_parq = read_df(parq_path)\n",
    "\n",
    "# Validation helper\n",
    "def validate_roundtrip(original: pd.DataFrame, csv_df: pd.DataFrame, parq_df: pd.DataFrame):\n",
    "    results = {}\n",
    "    results[\"shape_csv_matches\"] = original.shape == csv_df.shape\n",
    "    results[\"shape_parquet_matches\"] = original.shape == parq_df.shape\n",
    "\n",
    "    # Check dtypes for critical columns\n",
    "    results[\"date_dtype_csv_is_datetime\"] = str(csv_df[\"date\"].dtype).startswith(\"datetime64\")\n",
    "    results[\"date_dtype_parquet_is_datetime\"] = str(parq_df[\"date\"].dtype).startswith(\"datetime64\")\n",
    "    results[\"ead_is_float_csv\"] = str(csv_df[\"ead\"].dtype).startswith(\"float\")\n",
    "    results[\"ead_is_float_parquet\"] = str(parq_df[\"ead\"].dtype).startswith(\"float\")\n",
    "\n",
    "    return pd.Series(results)\n",
    "\n",
    "validate_roundtrip(df, df_csv, df_parq)\n"
   ]
  },
  {
   "cell_type": "markdown",
   "id": "e6cfcab9-32e4-433c-a7b1-eea565fd2bbc",
   "metadata": {},
   "source": [
    "## Data Storage Notes\n",
    "- **Folders:** `data/raw/` for immutable inputs; `data/processed/` for derived outputs.  \n",
    "- **Formats:** Saved CSV (exchange-friendly) and Parquet (analysis-ready, type-preserving, fast).  \n",
    "- **Env paths:** `DATA_DIR_RAW` and `DATA_DIR_PROCESSED` from `.env` drive all I/O.  \n",
    "- **Validation:** Checked shapes and key dtypes (`date` as datetime, `ead` as float) after reload.\n",
    "\n",
    "References: Stage 05 reading (folder conventions, CSV vs Parquet, env-driven paths) and homework tasks (save/load, utilities, validation, documentation).\n"
   ]
  },
  {
   "cell_type": "code",
   "execution_count": null,
   "id": "545e2c26-44c9-495d-96f0-4e1cd0580efc",
   "metadata": {},
   "outputs": [],
   "source": []
  }
 ],
 "metadata": {
  "kernelspec": {
   "display_name": "Python 3 (ipykernel)",
   "language": "python",
   "name": "python3"
  },
  "language_info": {
   "codemirror_mode": {
    "name": "ipython",
    "version": 3
   },
   "file_extension": ".py",
   "mimetype": "text/x-python",
   "name": "python",
   "nbconvert_exporter": "python",
   "pygments_lexer": "ipython3",
   "version": "3.11.13"
  }
 },
 "nbformat": 4,
 "nbformat_minor": 5
}
