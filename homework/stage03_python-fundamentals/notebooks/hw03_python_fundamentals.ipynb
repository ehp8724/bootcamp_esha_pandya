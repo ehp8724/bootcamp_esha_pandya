{
 "cells": [
  {
   "cell_type": "code",
   "execution_count": 8,
   "id": "6f6f134e-de33-486e-9525-55d946031348",
   "metadata": {},
   "outputs": [
    {
     "name": "stdout",
     "output_type": "stream",
     "text": [
      "357 ms ± 12.2 ms per loop (mean ± std. dev. of 7 runs, 1 loop each)\n",
      "6.27 ms ± 248 μs per loop (mean ± std. dev. of 7 runs, 100 loops each)\n"
     ]
    }
   ],
   "source": [
    "import numpy as np\n",
    "\n",
    "arr = np.arange(1_000_000)\n",
    "\n",
    "%timeit [x * 2 for x in arr]\n",
    "%timeit arr * 2"
   ]
  },
  {
   "cell_type": "code",
   "execution_count": 3,
   "id": "ca47784d-3d26-4699-97a0-23f25d7f15b1",
   "metadata": {},
   "outputs": [
    {
     "name": "stdout",
     "output_type": "stream",
     "text": [
      "Collecting pandas\n",
      "  Downloading pandas-2.3.1-cp311-cp311-win_amd64.whl (11.3 MB)\n",
      "     ---------------------------------------- 0.0/11.3 MB ? eta -:--:--\n",
      "     ---------------------------------------- 0.0/11.3 MB ? eta -:--:--\n",
      "     --------------------------------------- 0.1/11.3 MB 762.6 kB/s eta 0:00:15\n",
      "     - -------------------------------------- 0.5/11.3 MB 3.3 MB/s eta 0:00:04\n",
      "     --- ------------------------------------ 1.0/11.3 MB 5.5 MB/s eta 0:00:02\n",
      "     ----- ---------------------------------- 1.5/11.3 MB 7.0 MB/s eta 0:00:02\n",
      "     ------- -------------------------------- 2.2/11.3 MB 7.8 MB/s eta 0:00:02\n",
      "     ---------- ----------------------------- 3.0/11.3 MB 9.5 MB/s eta 0:00:01\n",
      "     ------------- -------------------------- 3.8/11.3 MB 10.6 MB/s eta 0:00:01\n",
      "     --------------- ------------------------ 4.4/11.3 MB 10.7 MB/s eta 0:00:01\n",
      "     ------------------ --------------------- 5.2/11.3 MB 11.0 MB/s eta 0:00:01\n",
      "     -------------------- ------------------- 5.9/11.3 MB 11.7 MB/s eta 0:00:01\n",
      "     ----------------------- ---------------- 6.6/11.3 MB 11.6 MB/s eta 0:00:01\n",
      "     ------------------------- -------------- 7.2/11.3 MB 11.9 MB/s eta 0:00:01\n",
      "     --------------------------- ------------ 7.9/11.3 MB 12.1 MB/s eta 0:00:01\n",
      "     ------------------------------ --------- 8.5/11.3 MB 12.1 MB/s eta 0:00:01\n",
      "     -------------------------------- ------- 9.2/11.3 MB 12.3 MB/s eta 0:00:01\n",
      "     ---------------------------------- ----- 9.8/11.3 MB 12.5 MB/s eta 0:00:01\n",
      "     ---------------------------------- ---- 10.0/11.3 MB 11.8 MB/s eta 0:00:01\n",
      "     ----------------------------------- --- 10.4/11.3 MB 13.1 MB/s eta 0:00:01\n",
      "     --------------------------------------  11.1/11.3 MB 13.4 MB/s eta 0:00:01\n",
      "     --------------------------------------  11.3/11.3 MB 13.4 MB/s eta 0:00:01\n",
      "     --------------------------------------- 11.3/11.3 MB 12.1 MB/s eta 0:00:00\n",
      "Requirement already satisfied: numpy>=1.23.2 in c:\\users\\esha\\miniconda3\\envs\\fe-course\\lib\\site-packages (from pandas) (2.3.2)\n",
      "Requirement already satisfied: python-dateutil>=2.8.2 in c:\\users\\esha\\miniconda3\\envs\\fe-course\\lib\\site-packages (from pandas) (2.9.0.post0)\n",
      "Collecting pytz>=2020.1\n",
      "  Using cached pytz-2025.2-py2.py3-none-any.whl (509 kB)\n",
      "Collecting tzdata>=2022.7\n",
      "  Using cached tzdata-2025.2-py2.py3-none-any.whl (347 kB)\n",
      "Requirement already satisfied: six>=1.5 in c:\\users\\esha\\appdata\\roaming\\python\\python311\\site-packages (from python-dateutil>=2.8.2->pandas) (1.16.0)\n",
      "Installing collected packages: pytz, tzdata, pandas\n",
      "Successfully installed pandas-2.3.1 pytz-2025.2 tzdata-2025.2\n"
     ]
    },
    {
     "name": "stderr",
     "output_type": "stream",
     "text": [
      "\n",
      "[notice] A new release of pip is available: 23.0.1 -> 25.2\n",
      "[notice] To update, run: python.exe -m pip install --upgrade pip\n"
     ]
    }
   ],
   "source": [
    "!pip install pandas"
   ]
  },
  {
   "cell_type": "code",
   "execution_count": 4,
   "id": "a38bb92c-dee6-4f92-8f29-9f3e1da1b2c4",
   "metadata": {},
   "outputs": [
    {
     "name": "stdout",
     "output_type": "stream",
     "text": [
      "<class 'pandas.core.frame.DataFrame'>\n",
      "RangeIndex: 10 entries, 0 to 9\n",
      "Data columns (total 4 columns):\n",
      " #   Column      Non-Null Count  Dtype  \n",
      "---  ------      --------------  -----  \n",
      " 0   category    10 non-null     object \n",
      " 1   value       10 non-null     int64  \n",
      " 2   date        10 non-null     object \n",
      " 3   Unnamed: 3  0 non-null      float64\n",
      "dtypes: float64(1), int64(1), object(2)\n",
      "memory usage: 452.0+ bytes\n",
      "None\n",
      "  category  value        date  Unnamed: 3\n",
      "0        A     10  01-08-2025         NaN\n",
      "1        B     15  02-08-2025         NaN\n",
      "2        A     12  03-08-2025         NaN\n",
      "3        B     18  04-08-2025         NaN\n",
      "4        C     25  05-08-2025         NaN\n"
     ]
    }
   ],
   "source": [
    "import pandas as pd\n",
    "\n",
    "# Load provided dataset\n",
    "df = pd.read_csv(\"../data/starter_data.csv\")\n",
    "\n",
    "print(df.info())\n",
    "print(df.head())"
   ]
  },
  {
   "cell_type": "code",
   "execution_count": 5,
   "id": "a2cc9373-16fc-4ad3-818a-3f78726586a2",
   "metadata": {},
   "outputs": [
    {
     "name": "stdout",
     "output_type": "stream",
     "text": [
      "           value  Unnamed: 3\n",
      "count  10.000000         0.0\n",
      "mean   17.600000         NaN\n",
      "std     7.381659         NaN\n",
      "min    10.000000         NaN\n",
      "25%    12.250000         NaN\n",
      "50%    14.500000         NaN\n",
      "75%    23.250000         NaN\n",
      "max    30.000000         NaN\n",
      "  category      value\n",
      "0        A  11.500000\n",
      "1        B  15.666667\n",
      "2        C  27.666667\n"
     ]
    }
   ],
   "source": [
    "summary_stats = df.describe()\n",
    "\n",
    "grouped = df.groupby(\"category\")[\"value\"].mean().reset_index()\n",
    "\n",
    "print(summary_stats)\n",
    "print(grouped.head())"
   ]
  },
  {
   "cell_type": "code",
   "execution_count": 11,
   "id": "04c01d20-ec4e-45f3-a8df-e1d11fdc3ea0",
   "metadata": {},
   "outputs": [
    {
     "name": "stdout",
     "output_type": "stream",
     "text": [
      "Collecting matplotlib\n",
      "  Downloading matplotlib-3.10.5-cp311-cp311-win_amd64.whl (8.1 MB)\n",
      "     ---------------------------------------- 0.0/8.1 MB ? eta -:--:--\n",
      "     ---------------------------------------- 0.0/8.1 MB 640.0 kB/s eta 0:00:13\n",
      "      --------------------------------------- 0.1/8.1 MB 1.3 MB/s eta 0:00:07\n",
      "     -- ------------------------------------- 0.6/8.1 MB 4.2 MB/s eta 0:00:02\n",
      "     ----- ---------------------------------- 1.1/8.1 MB 5.9 MB/s eta 0:00:02\n",
      "     ------- -------------------------------- 1.5/8.1 MB 6.7 MB/s eta 0:00:01\n",
      "     --------- ------------------------------ 1.9/8.1 MB 6.8 MB/s eta 0:00:01\n",
      "     ----------- ---------------------------- 2.4/8.1 MB 7.3 MB/s eta 0:00:01\n",
      "     ------------- -------------------------- 2.8/8.1 MB 7.5 MB/s eta 0:00:01\n",
      "     ---------------- ----------------------- 3.3/8.1 MB 7.8 MB/s eta 0:00:01\n",
      "     ------------------- -------------------- 3.9/8.1 MB 8.2 MB/s eta 0:00:01\n",
      "     --------------------- ------------------ 4.4/8.1 MB 8.5 MB/s eta 0:00:01\n",
      "     ------------------------ --------------- 4.9/8.1 MB 8.7 MB/s eta 0:00:01\n",
      "     ------------------------- -------------- 5.2/8.1 MB 9.1 MB/s eta 0:00:01\n",
      "     ------------------------- -------------- 5.2/8.1 MB 9.1 MB/s eta 0:00:01\n",
      "     ------------------------- -------------- 5.2/8.1 MB 9.1 MB/s eta 0:00:01\n",
      "     ------------------------- -------------- 5.2/8.1 MB 9.1 MB/s eta 0:00:01\n",
      "     ------------------------- -------------- 5.2/8.1 MB 9.1 MB/s eta 0:00:01\n",
      "     ------------------------- -------------- 5.2/8.1 MB 9.1 MB/s eta 0:00:01\n",
      "     -------------------------- ------------- 5.4/8.1 MB 6.1 MB/s eta 0:00:01\n",
      "     ---------------------------- ----------- 5.8/8.1 MB 6.0 MB/s eta 0:00:01\n",
      "     ------------------------------ --------- 6.2/8.1 MB 6.2 MB/s eta 0:00:01\n",
      "     -------------------------------- ------- 6.6/8.1 MB 6.3 MB/s eta 0:00:01\n",
      "     ---------------------------------- ----- 7.1/8.1 MB 6.4 MB/s eta 0:00:01\n",
      "     ------------------------------------- -- 7.6/8.1 MB 6.6 MB/s eta 0:00:01\n",
      "     ---------------------------------------  8.0/8.1 MB 6.7 MB/s eta 0:00:01\n",
      "     ---------------------------------------  8.1/8.1 MB 6.6 MB/s eta 0:00:01\n",
      "     ---------------------------------------- 8.1/8.1 MB 6.3 MB/s eta 0:00:00\n",
      "Collecting contourpy>=1.0.1\n",
      "  Downloading contourpy-1.3.3-cp311-cp311-win_amd64.whl (225 kB)\n",
      "     ---------------------------------------- 0.0/225.2 kB ? eta -:--:--\n",
      "     ------------------------------------- 225.2/225.2 kB 13.4 MB/s eta 0:00:00\n",
      "Collecting cycler>=0.10\n",
      "  Using cached cycler-0.12.1-py3-none-any.whl (8.3 kB)\n",
      "Collecting fonttools>=4.22.0\n",
      "  Downloading fonttools-4.59.1-cp311-cp311-win_amd64.whl (2.3 MB)\n",
      "     ---------------------------------------- 0.0/2.3 MB ? eta -:--:--\n",
      "     -------- ------------------------------- 0.5/2.3 MB 15.2 MB/s eta 0:00:01\n",
      "     ---------------- ----------------------- 1.0/2.3 MB 12.1 MB/s eta 0:00:01\n",
      "     ----------------------- ---------------- 1.4/2.3 MB 10.7 MB/s eta 0:00:01\n",
      "     -------------------------------- ------- 1.8/2.3 MB 10.6 MB/s eta 0:00:01\n",
      "     ---------------------------------------  2.3/2.3 MB 10.3 MB/s eta 0:00:01\n",
      "     ---------------------------------------- 2.3/2.3 MB 9.0 MB/s eta 0:00:00\n",
      "Collecting kiwisolver>=1.3.1\n",
      "  Downloading kiwisolver-1.4.9-cp311-cp311-win_amd64.whl (73 kB)\n",
      "     ---------------------------------------- 0.0/73.8 kB ? eta -:--:--\n",
      "     ---------------------------------------- 73.8/73.8 kB 4.0 MB/s eta 0:00:00\n",
      "Requirement already satisfied: numpy>=1.23 in c:\\users\\esha\\miniconda3\\envs\\fe-course\\lib\\site-packages (from matplotlib) (2.3.2)\n",
      "Requirement already satisfied: packaging>=20.0 in c:\\users\\esha\\appdata\\roaming\\python\\python311\\site-packages (from matplotlib) (23.1)\n",
      "Requirement already satisfied: pillow>=8 in c:\\users\\esha\\appdata\\roaming\\python\\python311\\site-packages (from matplotlib) (9.5.0)\n",
      "Requirement already satisfied: pyparsing>=2.3.1 in c:\\users\\esha\\appdata\\roaming\\python\\python311\\site-packages (from matplotlib) (3.0.9)\n",
      "Requirement already satisfied: python-dateutil>=2.7 in c:\\users\\esha\\miniconda3\\envs\\fe-course\\lib\\site-packages (from matplotlib) (2.9.0.post0)\n",
      "Requirement already satisfied: six>=1.5 in c:\\users\\esha\\appdata\\roaming\\python\\python311\\site-packages (from python-dateutil>=2.7->matplotlib) (1.16.0)\n",
      "Installing collected packages: kiwisolver, fonttools, cycler, contourpy, matplotlib\n",
      "Successfully installed contourpy-1.3.3 cycler-0.12.1 fonttools-4.59.1 kiwisolver-1.4.9 matplotlib-3.10.5\n"
     ]
    },
    {
     "name": "stderr",
     "output_type": "stream",
     "text": [
      "\n",
      "[notice] A new release of pip is available: 23.0.1 -> 25.2\n",
      "[notice] To update, run: python.exe -m pip install --upgrade pip\n"
     ]
    }
   ],
   "source": [
    "!pip install matplotlib"
   ]
  },
  {
   "cell_type": "code",
   "execution_count": 14,
   "id": "39f5974e-e975-4f41-be49-9f0177db9768",
   "metadata": {},
   "outputs": [
    {
     "data": {
      "image/png": "[encoded data removed]",
      "text/plain": [
       "<Figure size 640x480 with 1 Axes>"
      ]
     },
     "metadata": {},
     "output_type": "display_data"
    }
   ],
   "source": [
    "import os\n",
    "import matplotlib.pyplot as plt\n",
    "\n",
    "os.makedirs(\"../data/processed\", exist_ok=True)\n",
    "\n",
    "summary_stats.to_csv(\"../data/processed/summary.csv\")\n",
    "\n",
    "df['value'].hist()\n",
    "plt.savefig('../data/processed/histogram.png')"
   ]
  },
  {
   "cell_type": "code",
   "execution_count": 15,
   "id": "45264fff-5e80-4d00-8ac4-499508d7d87e",
   "metadata": {},
   "outputs": [
    {
     "name": "stdout",
     "output_type": "stream",
     "text": [
      "           value  Unnamed: 3\n",
      "count  10.000000         0.0\n",
      "mean   17.600000         NaN\n",
      "std     7.381659         NaN\n",
      "min    10.000000         NaN\n",
      "25%    12.250000         NaN\n",
      "50%    14.500000         NaN\n",
      "75%    23.250000         NaN\n",
      "max    30.000000         NaN\n"
     ]
    }
   ],
   "source": [
    "def get_summary_stats(df: pd.DataFrame):\n",
    "    stats = df.describe()\n",
    "    return stats\n",
    "\n",
    "stats_output = get_summary_stats(df)\n",
    "print(stats_output)"
   ]
  },
  {
   "cell_type": "code",
   "execution_count": null,
   "id": "ed51649b-1e76-4657-bc30-5bbe29f2b819",
   "metadata": {},
   "outputs": [],
   "source": []
  }
 ],
 "metadata": {
  "kernelspec": {
   "display_name": "Python 3 (ipykernel)",
   "language": "python",
   "name": "python3"
  },
  "language_info": {
   "codemirror_mode": {
    "name": "ipython",
    "version": 3
   },
   "file_extension": ".py",
   "mimetype": "text/x-python",
   "name": "python",
   "nbconvert_exporter": "python",
   "pygments_lexer": "ipython3",
   "version": "3.11.13"
  }
 },
 "nbformat": 4,
 "nbformat_minor": 5
}
