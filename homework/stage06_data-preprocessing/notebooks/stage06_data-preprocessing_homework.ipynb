{
 "cells": [
  {
   "cell_type": "markdown",
   "id": "cb51282b-8e92-46d6-bf14-84ed68a587e7",
   "metadata": {},
   "source": [
    "# Stage 06 — Data Preprocessing (CCR Project)\n",
    "\n",
    "**Goals:** Handle missing data, drop invalid rows, scale features, correct types, and document assumptions for reproducibility.  \n",
    "**Steps:** load raw → fill_missing_median → drop_missing → normalize_data → save cleaned → compare vs original.\n",
    "\n",
    "**Key assumptions (from reading):**\n",
    "- Median imputation assumes MCAR/MAR; FFILL/BFILL assumes temporal continuity.\n",
    "- Removing invalid values assumes they are errors; thresholds must be justified.\n",
    "- StandardScaler assumes ~normal features; MinMax is sensitive to outliers.\n",
    "- Document choices for transparency and reproducibility. "
   ]
  },
  {
   "cell_type": "code",
   "execution_count": 1,
   "id": "2f8db929-89bb-4d2b-8b60-41d32843f491",
   "metadata": {},
   "outputs": [
    {
     "data": {
      "text/plain": [
       "(WindowsPath('../data/raw'), WindowsPath('../data/processed'))"
      ]
     },
     "execution_count": 1,
     "metadata": {},
     "output_type": "execute_result"
    }
   ],
   "source": [
    "from datetime import datetime\n",
    "from pathlib import Path\n",
    "import pandas as pd\n",
    "import numpy as np\n",
    "\n",
    "try:\n",
    "    from src.config import load_env, get_path\n",
    "    load_env()\n",
    "    RAW_DIR = get_path(\"DATA_DIR_RAW\", \"data/raw\")\n",
    "    PROC_DIR = get_path(\"DATA_DIR_PROCESSED\", \"data/processed\")\n",
    "except Exception:\n",
    "    RAW_DIR = Path(\"../data/raw\")\n",
    "    PROC_DIR = Path(\"../data/processed\")\n",
    "\n",
    "RAW_DIR, PROC_DIR\n"
   ]
  },
  {
   "cell_type": "code",
   "execution_count": 3,
   "id": "40eca742-af92-469c-9012-04d9713dadc8",
   "metadata": {},
   "outputs": [
    {
     "name": "stdout",
     "output_type": "stream",
     "text": [
      "<class 'pandas.core.frame.DataFrame'>\n",
      "RangeIndex: 126 entries, 0 to 125\n",
      "Data columns (total 6 columns):\n",
      " #   Column  Non-Null Count  Dtype         \n",
      "---  ------  --------------  -----         \n",
      " 0   Date    125 non-null    datetime64[ns]\n",
      " 1   Close   126 non-null    object        \n",
      " 2   High    126 non-null    object        \n",
      " 3   Low     126 non-null    object        \n",
      " 4   Open    126 non-null    object        \n",
      " 5   Volume  126 non-null    object        \n",
      "dtypes: datetime64[ns](1), object(5)\n",
      "memory usage: 6.0+ KB\n"
     ]
    },
    {
     "data": {
      "text/plain": [
       "(None,\n",
       "         Date               Close                High                 Low  \\\n",
       " 0        NaT                 JPM                 JPM                 JPM   \n",
       " 1 2025-02-21  261.36322021484375  266.26924263014877   259.9784679949329   \n",
       " 2 2025-02-24   258.4947814941406   264.0931645598592  255.79449220326956   \n",
       " 3 2025-02-25  254.59767150878906  260.13671015757575  250.59177606908855   \n",
       " 4 2025-02-26  255.97256469726562   258.0694794519864  254.13279879950727   \n",
       " \n",
       "                  Open    Volume  \n",
       " 0                 JPM       JPM  \n",
       " 1  265.39881832468063  12835600  \n",
       " 2  262.59959430697455  10372800  \n",
       " 3   259.3751040401838   9608400  \n",
       " 4  254.36030565887174   5943600  )"
      ]
     },
     "execution_count": 3,
     "metadata": {},
     "output_type": "execute_result"
    }
   ],
   "source": [
    "raw_path = RAW_DIR / \"api_yfinance_JPM_20250821-0353.csv\"   \n",
    "df_raw = pd.read_csv(raw_path)\n",
    "\n",
    "for cand in [\"date\", \"Date\", \"timestamp\", \"Datetime\"]:\n",
    "    if cand in df_raw.columns:\n",
    "        df_raw[cand] = pd.to_datetime(df_raw[cand], errors=\"coerce\")\n",
    "\n",
    "df_raw.info(), df_raw.head()\n"
   ]
  },
  {
   "cell_type": "code",
   "execution_count": 4,
   "id": "10e855a5-1e76-4219-98b1-f1f7b4a573a8",
   "metadata": {},
   "outputs": [
    {
     "data": {
      "text/plain": [
       "Date      1\n",
       "Close     0\n",
       "High      0\n",
       "Low       0\n",
       "Open      0\n",
       "Volume    0\n",
       "dtype: int64"
      ]
     },
     "execution_count": 4,
     "metadata": {},
     "output_type": "execute_result"
    }
   ],
   "source": [
    "missing_counts = df_raw.isna().sum().sort_values(ascending=False)\n",
    "missing_counts.head(10)\n"
   ]
  },
  {
   "cell_type": "code",
   "execution_count": 7,
   "id": "c6b14b3e-5da8-4b11-a109-35069e83fda2",
   "metadata": {},
   "outputs": [
    {
     "name": "stdout",
     "output_type": "stream",
     "text": [
      "Collecting scikit-learn\n",
      "  Downloading scikit_learn-1.7.1-cp311-cp311-win_amd64.whl (8.9 MB)\n",
      "     ---------------------------------------- 0.0/8.9 MB ? eta -:--:--\n",
      "     ---------------------------------------- 0.0/8.9 MB ? eta -:--:--\n",
      "     ---------------------------------------- 0.0/8.9 MB 495.5 kB/s eta 0:00:18\n",
      "     - -------------------------------------- 0.3/8.9 MB 2.5 MB/s eta 0:00:04\n",
      "     ---- ----------------------------------- 1.1/8.9 MB 6.8 MB/s eta 0:00:02\n",
      "     ------- -------------------------------- 1.6/8.9 MB 7.7 MB/s eta 0:00:01\n",
      "     ---------- ----------------------------- 2.4/8.9 MB 9.7 MB/s eta 0:00:01\n",
      "     ------------ --------------------------- 2.9/8.9 MB 10.2 MB/s eta 0:00:01\n",
      "     ------------- -------------------------- 3.0/8.9 MB 8.4 MB/s eta 0:00:01\n",
      "     ----------------- ---------------------- 3.9/8.9 MB 9.5 MB/s eta 0:00:01\n",
      "     ------------------- -------------------- 4.4/8.9 MB 10.1 MB/s eta 0:00:01\n",
      "     ----------------------- ---------------- 5.3/8.9 MB 10.9 MB/s eta 0:00:01\n",
      "     -------------------------- ------------- 6.0/8.9 MB 11.2 MB/s eta 0:00:01\n",
      "     ----------------------------- ---------- 6.6/8.9 MB 11.7 MB/s eta 0:00:01\n",
      "     -------------------------------- ------- 7.2/8.9 MB 11.6 MB/s eta 0:00:01\n",
      "     ----------------------------------- ---- 7.8/8.9 MB 11.9 MB/s eta 0:00:01\n",
      "     ------------------------------------- -- 8.5/8.9 MB 12.0 MB/s eta 0:00:01\n",
      "     ---------------------------------------  8.9/8.9 MB 12.1 MB/s eta 0:00:01\n",
      "     ---------------------------------------- 8.9/8.9 MB 11.6 MB/s eta 0:00:00\n",
      "Requirement already satisfied: numpy>=1.22.0 in c:\\users\\esha\\miniconda3\\envs\\fe-course\\lib\\site-packages (from scikit-learn) (2.3.2)\n",
      "Collecting scipy>=1.8.0\n",
      "  Downloading scipy-1.16.1-cp311-cp311-win_amd64.whl (38.6 MB)\n",
      "     ---------------------------------------- 0.0/38.6 MB ? eta -:--:--\n",
      "      --------------------------------------- 0.8/38.6 MB 27.1 MB/s eta 0:00:02\n",
      "     - -------------------------------------- 1.6/38.6 MB 20.6 MB/s eta 0:00:02\n",
      "     -- ------------------------------------- 2.3/38.6 MB 18.4 MB/s eta 0:00:02\n",
      "     -- ------------------------------------- 2.9/38.6 MB 16.8 MB/s eta 0:00:03\n",
      "     --- ------------------------------------ 3.6/38.6 MB 16.3 MB/s eta 0:00:03\n",
      "     ---- ----------------------------------- 4.3/38.6 MB 16.2 MB/s eta 0:00:03\n",
      "     ----- ---------------------------------- 5.0/38.6 MB 16.0 MB/s eta 0:00:03\n",
      "     ----- ---------------------------------- 5.7/38.6 MB 15.7 MB/s eta 0:00:03\n",
      "     ------ --------------------------------- 6.3/38.6 MB 15.5 MB/s eta 0:00:03\n",
      "     ------- -------------------------------- 7.1/38.6 MB 15.6 MB/s eta 0:00:03\n",
      "     -------- ------------------------------- 7.8/38.6 MB 15.1 MB/s eta 0:00:03\n",
      "     -------- ------------------------------- 8.5/38.6 MB 15.1 MB/s eta 0:00:03\n",
      "     --------- ------------------------------ 9.2/38.6 MB 15.0 MB/s eta 0:00:02\n",
      "     ---------- ----------------------------- 9.8/38.6 MB 15.0 MB/s eta 0:00:02\n",
      "     ---------- ---------------------------- 10.5/38.6 MB 15.2 MB/s eta 0:00:02\n",
      "     ----------- --------------------------- 11.2/38.6 MB 14.6 MB/s eta 0:00:02\n",
      "     ----------- --------------------------- 11.9/38.6 MB 14.6 MB/s eta 0:00:02\n",
      "     ------------ -------------------------- 12.5/38.6 MB 14.2 MB/s eta 0:00:02\n",
      "     ------------- ------------------------- 13.1/38.6 MB 14.6 MB/s eta 0:00:02\n",
      "     ------------- ------------------------- 13.7/38.6 MB 14.2 MB/s eta 0:00:02\n",
      "     -------------- ------------------------ 14.3/38.6 MB 14.2 MB/s eta 0:00:02\n",
      "     -------------- ------------------------ 14.9/38.6 MB 14.6 MB/s eta 0:00:02\n",
      "     --------------- ----------------------- 15.5/38.6 MB 14.6 MB/s eta 0:00:02\n",
      "     ---------------- ---------------------- 16.2/38.6 MB 14.5 MB/s eta 0:00:02\n",
      "     ---------------- ---------------------- 16.8/38.6 MB 14.2 MB/s eta 0:00:02\n",
      "     ----------------- --------------------- 17.2/38.6 MB 14.2 MB/s eta 0:00:02\n",
      "     ------------------ -------------------- 18.0/38.6 MB 14.5 MB/s eta 0:00:02\n",
      "     ------------------ -------------------- 18.7/38.6 MB 14.2 MB/s eta 0:00:02\n",
      "     ------------------- ------------------- 19.4/38.6 MB 14.6 MB/s eta 0:00:02\n",
      "     -------------------- ------------------ 20.1/38.6 MB 14.2 MB/s eta 0:00:02\n",
      "     --------------------- ----------------- 20.8/38.6 MB 14.2 MB/s eta 0:00:02\n",
      "     --------------------- ----------------- 21.5/38.6 MB 14.6 MB/s eta 0:00:02\n",
      "     ---------------------- ---------------- 22.2/38.6 MB 14.2 MB/s eta 0:00:02\n",
      "     ----------------------- --------------- 22.9/38.6 MB 14.6 MB/s eta 0:00:02\n",
      "     ----------------------- --------------- 23.6/38.6 MB 14.6 MB/s eta 0:00:02\n",
      "     ------------------------ -------------- 24.2/38.6 MB 14.6 MB/s eta 0:00:01\n",
      "     ------------------------- ------------- 24.9/38.6 MB 14.6 MB/s eta 0:00:01\n",
      "     ------------------------- ------------- 25.5/38.6 MB 14.6 MB/s eta 0:00:01\n",
      "     -------------------------- ------------ 26.3/38.6 MB 14.6 MB/s eta 0:00:01\n",
      "     --------------------------- ----------- 27.0/38.6 MB 14.5 MB/s eta 0:00:01\n",
      "     --------------------------- ----------- 27.7/38.6 MB 14.2 MB/s eta 0:00:01\n",
      "     ---------------------------- ---------- 28.4/38.6 MB 14.2 MB/s eta 0:00:01\n",
      "     ----------------------------- --------- 29.0/38.6 MB 14.6 MB/s eta 0:00:01\n",
      "     ----------------------------- --------- 29.6/38.6 MB 14.2 MB/s eta 0:00:01\n",
      "     ------------------------------ -------- 30.4/38.6 MB 14.6 MB/s eta 0:00:01\n",
      "     ------------------------------- ------- 31.0/38.6 MB 14.2 MB/s eta 0:00:01\n",
      "     -------------------------------- ------ 31.7/38.6 MB 14.2 MB/s eta 0:00:01\n",
      "     -------------------------------- ------ 32.5/38.6 MB 14.5 MB/s eta 0:00:01\n",
      "     --------------------------------- ----- 33.1/38.6 MB 14.2 MB/s eta 0:00:01\n",
      "     ---------------------------------- ---- 33.8/38.6 MB 14.6 MB/s eta 0:00:01\n",
      "     ---------------------------------- ---- 34.5/38.6 MB 14.2 MB/s eta 0:00:01\n",
      "     ----------------------------------- --- 35.2/38.6 MB 14.6 MB/s eta 0:00:01\n",
      "     ------------------------------------ -- 35.9/38.6 MB 14.6 MB/s eta 0:00:01\n",
      "     ------------------------------------ -- 36.5/38.6 MB 14.2 MB/s eta 0:00:01\n",
      "     ------------------------------------- - 37.2/38.6 MB 14.2 MB/s eta 0:00:01\n",
      "     --------------------------------------  37.8/38.6 MB 14.5 MB/s eta 0:00:01\n",
      "     --------------------------------------  38.5/38.6 MB 14.6 MB/s eta 0:00:01\n",
      "     --------------------------------------  38.6/38.6 MB 14.2 MB/s eta 0:00:01\n",
      "     --------------------------------------  38.6/38.6 MB 14.2 MB/s eta 0:00:01\n",
      "     --------------------------------------  38.6/38.6 MB 14.2 MB/s eta 0:00:01\n",
      "     --------------------------------------  38.6/38.6 MB 14.2 MB/s eta 0:00:01\n",
      "     --------------------------------------- 38.6/38.6 MB 10.6 MB/s eta 0:00:00\n",
      "Collecting joblib>=1.2.0\n",
      "  Downloading joblib-1.5.1-py3-none-any.whl (307 kB)\n",
      "     ---------------------------------------- 0.0/307.7 kB ? eta -:--:--\n",
      "     ------------------------------------- 307.7/307.7 kB 19.8 MB/s eta 0:00:00\n",
      "Collecting threadpoolctl>=3.1.0\n",
      "  Downloading threadpoolctl-3.6.0-py3-none-any.whl (18 kB)\n",
      "Installing collected packages: threadpoolctl, scipy, joblib, scikit-learn\n",
      "Successfully installed joblib-1.5.1 scikit-learn-1.7.1 scipy-1.16.1 threadpoolctl-3.6.0\n"
     ]
    },
    {
     "name": "stderr",
     "output_type": "stream",
     "text": [
      "\n",
      "[notice] A new release of pip is available: 23.0.1 -> 25.2\n",
      "[notice] To update, run: python.exe -m pip install --upgrade pip\n"
     ]
    }
   ],
   "source": [
    "    !pip install scikit-learn"
   ]
  },
  {
   "cell_type": "code",
   "execution_count": 8,
   "id": "9a09d13d-8a92-428c-b844-59b4797f1560",
   "metadata": {},
   "outputs": [
    {
     "name": "stdout",
     "output_type": "stream",
     "text": [
      "<class 'pandas.core.frame.DataFrame'>\n",
      "Index: 125 entries, 1 to 125\n",
      "Data columns (total 6 columns):\n",
      " #   Column  Non-Null Count  Dtype         \n",
      "---  ------  --------------  -----         \n",
      " 0   Date    125 non-null    datetime64[ns]\n",
      " 1   Close   125 non-null    object        \n",
      " 2   High    125 non-null    object        \n",
      " 3   Low     125 non-null    object        \n",
      " 4   Open    125 non-null    object        \n",
      " 5   Volume  125 non-null    object        \n",
      "dtypes: datetime64[ns](1), object(5)\n",
      "memory usage: 6.8+ KB\n"
     ]
    }
   ],
   "source": [
    "import os\n",
    "import sys\n",
    "sys.path.append(os.getcwd() + \"/../src\")\n",
    "\n",
    "from cleaning import fill_missing_median, drop_missing, normalize_data\n",
    "\n",
    "df = df_raw.copy()\n",
    "\n",
    "df = fill_missing_median(df)\n",
    "\n",
    "critical_cols = []\n",
    "df = drop_missing(df, subset=critical_cols or None, how=\"any\")\n",
    "df_scaled = normalize_data(df, method=\"standard\")\n",
    "\n",
    "df_scaled.info()\n"
   ]
  },
  {
   "cell_type": "code",
   "execution_count": 19,
   "id": "4bf4c557-ce9b-4b3f-bdd9-931bef38999c",
   "metadata": {
    "scrolled": true
   },
   "outputs": [
    {
     "data": {
      "text/plain": [
       "({'rows_before': 126,\n",
       "  'rows_after': 125,\n",
       "  'cols_before': 6,\n",
       "  'cols_after': 6,\n",
       "  'na_before_total': 1,\n",
       "  'na_after_total': 0,\n",
       "  'example_cols': ['Close', 'High', 'Low', 'Open', 'Volume']},\n",
       "                      Close High                 Low   Open Volume\n",
       " count                  126  126                 126    126    126\n",
       " unique                 125  126                 125    124    126\n",
       " top     243.44715881347656  JPM  296.20001220703125  291.5    JPM\n",
       " freq                     2    1                   2      2      1,\n",
       "                      Close                High                 Low  \\\n",
       " count                  125                 125                 125   \n",
       " unique                 124                 125                 124   \n",
       " top     243.44715881347656  266.26924263014877  296.20001220703125   \n",
       " freq                     2                   1                   2   \n",
       " \n",
       "                      Open    Volume  \n",
       " count                 125       125  \n",
       " unique                123       125  \n",
       " top     297.4200134277344  12835600  \n",
       " freq                    2         1  )"
      ]
     },
     "execution_count": 19,
     "metadata": {},
     "output_type": "execute_result"
    }
   ],
   "source": [
    "def compare_before_after(df0: pd.DataFrame, df1: pd.DataFrame):\n",
    "    comp = {}\n",
    "    comp[\"rows_before\"] = len(df0)\n",
    "    comp[\"rows_after\"]  = len(df1)\n",
    "    comp[\"cols_before\"] = df0.shape[1]\n",
    "    comp[\"cols_after\"]  = df1.shape[1]\n",
    "    comp[\"na_before_total\"] = int(df0.isna().sum().sum())\n",
    "    comp[\"na_after_total\"]  = int(df1.isna().sum().sum())\n",
    "    num0 = df0.select_dtypes(include=\"object\")\n",
    "    num1 = df1.select_dtypes(include=\"object\")\n",
    "    comp[\"example_cols\"] = list(num1.columns[:5])\n",
    "    summ0 = num0.describe().round(3)\n",
    "    summ1 = num1.describe().round(3)\n",
    "    return comp, summ0, summ1\n",
    "\n",
    "summary, before_desc, after_desc = compare_before_after(df_raw, df_scaled)\n",
    "summary, before_desc, after_desc\n"
   ]
  },
  {
   "cell_type": "code",
   "execution_count": 17,
   "id": "cbe1a24a-fb0f-4c8d-8ef9-47d775ecab34",
   "metadata": {},
   "outputs": [
    {
     "ename": "AttributeError",
     "evalue": "'DataFrame' object has no attribute 'dttypes'",
     "output_type": "error",
     "traceback": [
      "\u001b[31m---------------------------------------------------------------------------\u001b[39m",
      "\u001b[31mAttributeError\u001b[39m                            Traceback (most recent call last)",
      "\u001b[32m~\\AppData\\Local\\Temp\\ipykernel_36236\\2896956552.py\u001b[39m in \u001b[36m?\u001b[39m\u001b[34m()\u001b[39m\n\u001b[32m----> \u001b[39m\u001b[32m1\u001b[39m df_raw.dttypes\n",
      "\u001b[32m~\\miniconda3\\envs\\fe-course\\Lib\\site-packages\\pandas\\core\\generic.py\u001b[39m in \u001b[36m?\u001b[39m\u001b[34m(self, name)\u001b[39m\n\u001b[32m   6314\u001b[39m             \u001b[38;5;28;01mand\u001b[39;00m name \u001b[38;5;28;01mnot\u001b[39;00m \u001b[38;5;28;01min\u001b[39;00m self._accessors\n\u001b[32m   6315\u001b[39m             \u001b[38;5;28;01mand\u001b[39;00m self._info_axis._can_hold_identifiers_and_holds_name(name)\n\u001b[32m   6316\u001b[39m         ):\n\u001b[32m   6317\u001b[39m             \u001b[38;5;28;01mreturn\u001b[39;00m self[name]\n\u001b[32m-> \u001b[39m\u001b[32m6318\u001b[39m         \u001b[38;5;28;01mreturn\u001b[39;00m object.__getattribute__(self, name)\n",
      "\u001b[31mAttributeError\u001b[39m: 'DataFrame' object has no attribute 'dttypes'"
     ]
    }
   ],
   "source": [
    "df_raw.dttypes"
   ]
  },
  {
   "cell_type": "code",
   "execution_count": null,
   "id": "1924c3f3-bde2-46fb-bf96-95c324fadc24",
   "metadata": {},
   "outputs": [],
   "source": []
  },
  {
   "cell_type": "code",
   "execution_count": null,
   "id": "5fbb5205-cd26-48d1-bf20-8d6c96e34d2c",
   "metadata": {},
   "outputs": [],
   "source": []
  }
 ],
 "metadata": {
  "kernelspec": {
   "display_name": "Python 3 (ipykernel)",
   "language": "python",
   "name": "python3"
  },
  "language_info": {
   "codemirror_mode": {
    "name": "ipython",
    "version": 3
   },
   "file_extension": ".py",
   "mimetype": "text/x-python",
   "name": "python",
   "nbconvert_exporter": "python",
   "pygments_lexer": "ipython3",
   "version": "3.11.13"
  }
 },
 "nbformat": 4,
 "nbformat_minor": 5
}
